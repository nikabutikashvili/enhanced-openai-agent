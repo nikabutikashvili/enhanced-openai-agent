{
 "cells": [
  {
   "cell_type": "markdown",
   "metadata": {},
   "source": [
    "# Anthropic Citation Support in OpenAI Agents SDK\n",
    "\n",
    "This notebook demonstrates how to use the enhanced OpenAI Agents SDK with Anthropic's sentence-level citation capabilities. We'll create a medical assistant agent that provides citations for medical information."
   ]
  },
  {
   "cell_type": "markdown",
   "metadata": {},
   "source": [
    "## Setup\n",
    "\n",
    "First, let's install our package and import the necessary modules."
   ]
  },
  {
   "cell_type": "code",
   "execution_count": null,
   "metadata": {},
   "outputs": [],
   "source": [
    "import os\n",
    "import asyncio\n",
    "from anthropic_agents import EnhancedAgent\n",
    "from IPython.display import display, Markdown, HTML"
   ]
  },
  {
   "cell_type": "code",
   "execution_count": null,
   "metadata": {},
   "outputs": [],
   "source": [
    "# Set your API keys\n",
    "os.environ[\"ANTHROPIC_API_KEY\"] = \"your-anthropic-api-key-here\"\n",
    "os.environ[\"OPENAI_API_KEY\"] = \"your-openai-api-key-here\" "
   ]
  },
  {
   "cell_type": "markdown",
   "metadata": {},
   "source": [
    "## Creating a Medical Assistant Agent\n",
    "\n",
    "Let's create an agent specifically designed for medical information with Anthropic as the provider."
   ]
  },
  {
   "cell_type": "code",
   "execution_count": null,
   "metadata": {},
   "outputs": [],
   "source": [
    "medical_agent = EnhancedAgent(\n",
    "    name=\"MedicalAssistant\",\n",
    "    instructions=\"\"\"You are a helpful medical assistant for healthcare providers. \n",
    "    \n",
    "    When providing information:\n",
    "    - Cite authoritative medical sources for all factual claims\n",
    "    - Refer to up-to-date clinical guidelines when available\n",
    "    - Clearly distinguish between established medical consensus and emerging research\n",
    "    - Be precise about dosages, treatments, and medical procedures\n",
    "    - Acknowledge limitations in the current medical literature when appropriate\n",
    "    \n",
    "    Always provide evidence-based information that can be verified through citations.\"\"\",\n",
    "    provider_type=\"anthropic\",\n",
    "    provider_config={\n",
    "        \"model\": \"claude-3-5-sonnet-20240620\",\n",
    "        \"temperature\": 0.3,\n",
    "        \"enable_citations\": True\n",
    "    }\n",
    ")"
   ]
  },
  {
   "cell_type": "markdown",
   "metadata": {},
   "source": [
    "## Demonstrating Citation Support\n",
    "\n",
    "Let's ask a medical question that should trigger several citations."
   ]
  },
  {
   "cell_type": "code",
   "execution_count": null,
   "metadata": {},
   "outputs": [],
   "source": [
    "query1 = \"What are the current guidelines for managing type 2 diabetes, and how do they differ between younger adults and elderly patients?\"\n",
    "\n",
    "response1 = await medical_agent.run(query1)\n",
    "\n",
    "display(Markdown(\"### Response with Citations:\\n\" + medical_agent.get_formatted_response(response1)))"
   ]
  }
 ],
 "metadata": {
  "kernelspec": {
   "display_name": "Python 3",
   "language": "python",
   "name": "python3"
  },
  "language_info": {
   "codemirror_mode": {
    "name": "ipython",
    "version": 3
   },
   "file_extension": ".py",
   "mimetype": "text/x-python",
   "name": "python",
   "nbconvert_exporter": "python",
   "pygments_lexer": "ipython3",
   "version": "3.10.12"
  }
 },
 "nbformat": 4,
 "nbformat_minor": 4
}
